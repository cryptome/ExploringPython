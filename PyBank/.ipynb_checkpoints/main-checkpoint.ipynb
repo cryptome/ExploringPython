{
 "cells": [
  {
   "cell_type": "code",
   "execution_count": null,
   "id": "fd832ad5",
   "metadata": {},
   "outputs": [],
   "source": [
    "#import modules\n",
    "import csv\n",
    "import os"
   ]
  },
  {
   "cell_type": "code",
   "execution_count": null,
   "id": "753c1b64",
   "metadata": {
    "tags": []
   },
   "outputs": [],
   "source": [
    "#set path for file\n",
    "csvpath = os.path.join('..','PyBank','budget_data.csv')"
   ]
  },
  {
   "cell_type": "code",
   "execution_count": null,
   "id": "372a2d46-ad9c-4ffc-9ee1-26e56152db26",
   "metadata": {},
   "outputs": [],
   "source": [
    "#set the variables\n",
    "\n",
    "total_months = 0\n",
    "total_revenue = 0\n",
    "revenue = []\n",
    "previous_revenue = 0\n",
    "month_change = []\n",
    "pnl_change_list = []\n",
    "pnl_change = 0\n",
    "pnl_average_change = 0\n",
    "greatest_decrease = [\"\", 9999999]\n",
    "greatest_increase = [\"\", 0]\n",
    "\n"
   ]
  },
  {
   "cell_type": "code",
   "execution_count": null,
   "id": "c463ba7b-8fce-4278-8708-eca0947e6621",
   "metadata": {
    "tags": []
   },
   "outputs": [],
   "source": [
    "#open the csv file\n",
    "with open(csvpath, 'r') as csvfile:\n",
    "    reader = csv.reader(csvfile, delimiter=',')\n",
    "    csvrow = next(reader)\n",
    "    \n",
    "\n",
    "    #loop through to find total months\n",
    "    for row in reader:\n",
    "\n",
    "        #count the total of months\n",
    "        total_months += 1\n",
    "\n",
    "        #calculate the total revenue over the entire period\n",
    "        total_revenue += int(row[1])\n",
    "\n",
    "        #calculate the average change in revenue between months over the entire period\n",
    "        pnl_change = int(row[1])- previous_revenue\n",
    "        previous_revenue = int(row[1])\n",
    "        pnl_change_list = pnl_change_list + [pnl_change]\n",
    "        month_change = [month_change] + [row[0]]\n",
    "        pnl_average_change = round(sum(pnl_change_list)/len(pnl_change_list),2)\n",
    "       \n",
    "\n",
    "        #the greatest increase in revenue (date and amount) over the entire period\n",
    "        if pnl_change > greatest_increase[1]:\n",
    "            greatest_increase[1] = pnl_change\n",
    "            greatest_increase[0] = row[0]\n",
    "\n",
    "        #the greatest decrease in revenue (date and amount) over the entire period\n",
    "        if pnl_change < greatest_decrease[1]:\n",
    "            greatest_decrease[1] = pnl_change\n",
    "            greatest_decrease[0] = row[0]\n",
    "            \n",
    "\n",
    "print(\"Financial Analysis\")\n",
    "print(\"---------------------------------------------------------------\")\n",
    "            \n",
    "print(f\"Total number of months included in the dataset: {total_months}\")\n",
    "print(f\"The net total amount of Profit/Losses over the entire period: ${total_revenue}\")\n",
    "print(f\"The average of the changes in Profit/Losses over the entire period: ${pnl_average_change}\")\n",
    "print(f\"Greatest increase in profits (date and amount) ovef the entire period: {greatest_increase[0], greatest_increase[1]}\")\n",
    "print(f\"Greatest decrease in losses (date and amount) over the entire period: {greatest_decrease[0], greatest_decrease[1]}\")\n",
    "\n",
    "#set the output of the text file\n",
    "text_path = \"output.txt\"\n",
    "\n",
    "#write changes to file\n",
    "with open(text_path, 'w') as file:\n",
    "    file.write(\"Financial Analysis\\n\")\n",
    "    file.write(\"---------------------------------------------------------------\\n\")\n",
    "    file.write(f\"Total number of months included in the dataset: {total_months}\\n\")\n",
    "    file.write(f\"The net total amount of Profit/Losses over the entire period: ${total_revenue}\\n\")\n",
    "    file.write(f\"The average of the changes in Profit/Losses over the entire period: ${pnl_average_change}\\n\"\n",
    "    file.write(f\"Greatest increase in profits (date and amount) ovef the entire period: {greatest_increase[0], greatest_increase[1]}\\n\")\n",
    "    file.write(f\"Greatest decrease in losses (date and amount) over the entire period: {greatest_decrease[0], greatest_decrease[1]}\\n\")"
   ]
  },
  {
   "cell_type": "code",
   "execution_count": null,
   "id": "0b17c1c9-12fb-4cf2-b96b-dff505a655a0",
   "metadata": {},
   "outputs": [],
   "source": []
  }
 ],
 "metadata": {
  "kernelspec": {
   "display_name": "Python 3",
   "language": "python",
   "name": "python3"
  },
  "language_info": {
   "codemirror_mode": {
    "name": "ipython",
    "version": 3
   },
   "file_extension": ".py",
   "mimetype": "text/x-python",
   "name": "python",
   "nbconvert_exporter": "python",
   "pygments_lexer": "ipython3",
   "version": "3.8.8"
  }
 },
 "nbformat": 4,
 "nbformat_minor": 5
}
