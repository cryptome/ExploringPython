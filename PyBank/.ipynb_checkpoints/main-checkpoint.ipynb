{
 "cells": [
  {
   "cell_type": "code",
   "execution_count": 1,
   "id": "fd832ad5",
   "metadata": {},
   "outputs": [],
   "source": [
    "import csv\n",
    "import os"
   ]
  },
  {
   "cell_type": "code",
   "execution_count": 2,
   "id": "753c1b64",
   "metadata": {
    "tags": []
   },
   "outputs": [],
   "source": [
    "csvpath = os.path.join('..','PyBank','budget_data.csv')"
   ]
  },
  {
   "cell_type": "code",
   "execution_count": 3,
   "id": "372a2d46-ad9c-4ffc-9ee1-26e56152db26",
   "metadata": {},
   "outputs": [],
   "source": [
    "total_months = 0\n",
    "pnl = []\n",
    "net_pnl_total = 0\n",
    "mean_changes_pnl = 0\n",
    "greatest_increase_profits = 0\n",
    "greatest_decrease_losses = 0"
   ]
  },
  {
   "cell_type": "code",
   "execution_count": 5,
   "id": "c463ba7b-8fce-4278-8708-eca0947e6621",
   "metadata": {
    "tags": []
   },
   "outputs": [
    {
     "name": "stdout",
     "output_type": "stream",
     "text": [
      "Total number of months included in the dataset: 172\n",
      "Net total amount of Profit/Losses over the entire period: $76765156\n",
      "Average of the changes in Profit/Losses over the entire period: $446309.0465116279\n"
     ]
    }
   ],
   "source": [
    "with open(csvpath, 'r') as csvfile:\n",
    "    reader = csv.reader(csvfile, delimiter=',')\n",
    "    csvrow = next(reader)\n",
    "    \n",
    "        #print(row)\n",
    "    \n",
    "    for row in reader:\n",
    "        total_months = total_months + 1\n",
    "        net_pnl = int(row[1])\n",
    "        pnl.append(net_pnl)\n",
    "        net_pnl_total = sum(pnl)\n",
    "        mean_changes_pnl = net_pnl_total / total_months\n",
    "        #print(row)\n",
    "    \n",
    "    print(f'Total number of months included in the dataset: {total_months}')\n",
    "    print(f'Net total amount of Profit/Losses over the entire period: ${net_pnl_total}')\n",
    "    print(f'Average of the changes in Profit/Losses over the entire period: ${mean_changes_pnl}')\n",
    "    #print(f'Greatest increase in profits (date and amount) over the entire period: {date , greatest_increase_profits}')\n",
    "    #print(f'Greatest decrease in losses (date and amount) over the entire period: {date , greatest_decrease_losses}')   "
   ]
  },
  {
   "cell_type": "code",
   "execution_count": null,
   "id": "4e18dcdf-2956-4b6c-967a-70cf6d0a4135",
   "metadata": {},
   "outputs": [],
   "source": []
  }
 ],
 "metadata": {
  "kernelspec": {
   "display_name": "Python 3",
   "language": "python",
   "name": "python3"
  },
  "language_info": {
   "codemirror_mode": {
    "name": "ipython",
    "version": 3
   },
   "file_extension": ".py",
   "mimetype": "text/x-python",
   "name": "python",
   "nbconvert_exporter": "python",
   "pygments_lexer": "ipython3",
   "version": "3.8.8"
  }
 },
 "nbformat": 4,
 "nbformat_minor": 5
}
